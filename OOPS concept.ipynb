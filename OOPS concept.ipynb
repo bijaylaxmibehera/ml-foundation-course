{
 "cells": [
  {
   "cell_type": "code",
   "execution_count": 1,
   "id": "1b15592a",
   "metadata": {},
   "outputs": [],
   "source": [
    "from abc import ABC, abstractmethod\n",
    "\n",
    "# abstraction\n",
    "class Vehicle(ABC):\n",
    "    @abstractmethod\n",
    "    def start_engine(self):\n",
    "        pass\n",
    "\n",
    "# encapsulation, inheritance\n",
    "class Car(Vehicle):\n",
    "    \n",
    "    #class variable\n",
    "    total_car=0\n",
    "    \n",
    "    def __init__(self,brand,model,year):\n",
    "        self._brand=brand    #protected attribute\n",
    "        self.__model=model   #private attribute\n",
    "        self.year=year      #public attribute\n",
    "        self.is_running=False\n",
    "        Car.total_car+=1\n",
    "    \n",
    "    #getter and setter method (encapsulation)\n",
    "    def get_brand(self):\n",
    "        return self._brand\n",
    "    \n",
    "    def get_model(self):\n",
    "        return self.__model\n",
    "    \n",
    "    def get_year(self):\n",
    "        return self.year\n",
    "    \n",
    "    def get_is_running(self):\n",
    "        return self.is_running\n",
    "    \n",
    "    def set_model(self,new_model):\n",
    "        self.__model=new_model\n",
    "    \n",
    "    def start_engine(self):\n",
    "        self.is_running=True\n",
    "        print(f\"{self._brand} {self.__model} engine is started\")\n",
    "    \n",
    "    def stop_engine(self):\n",
    "        self.is_running=False\n",
    "        print(f\"{self._brand} {self.__model} engine is stopped\")\n",
    "    \n",
    "    #polymorphism - method overloading using default parameter\n",
    "    def drive(self,speed=10):\n",
    "        if self.is_running:\n",
    "            print(f\"Driving speed at {speed}km/h\")\n",
    "        else:\n",
    "            print(\"Start the engine first\")\n",
    "    \n",
    "    "
   ]
  },
  {
   "cell_type": "markdown",
   "id": "72915757",
   "metadata": {},
   "source": [
    "### 1. Create a car object and print its brand."
   ]
  },
  {
   "cell_type": "code",
   "execution_count": 38,
   "id": "1abd6513",
   "metadata": {},
   "outputs": [
    {
     "name": "stdout",
     "output_type": "stream",
     "text": [
      "Tata\n"
     ]
    }
   ],
   "source": [
    "my_car=Car(\"Tata\",\"Toyota\",2020)\n",
    "# It is good practice to avoid accessing protected members directly \n",
    "# from outside the class, and instead use public methods or properties.\n",
    "# print(my_car._brand) \n",
    "\n",
    "print(my_car.get_brand())\n"
   ]
  },
  {
   "cell_type": "markdown",
   "id": "071a05cf",
   "metadata": {},
   "source": [
    "### 2. Change the model of the car using a setter and print."
   ]
  },
  {
   "cell_type": "code",
   "execution_count": 28,
   "id": "1a288970",
   "metadata": {},
   "outputs": [
    {
     "name": "stdout",
     "output_type": "stream",
     "text": [
      "Corolla\n"
     ]
    }
   ],
   "source": [
    "my_car.set_model(\"Corolla\")\n",
    "print(my_car.get_model())"
   ]
  },
  {
   "cell_type": "markdown",
   "id": "16f55bbf",
   "metadata": {},
   "source": [
    "### 3. Call the method to start the engine."
   ]
  },
  {
   "cell_type": "code",
   "execution_count": 8,
   "id": "aa41f131",
   "metadata": {},
   "outputs": [
    {
     "name": "stdout",
     "output_type": "stream",
     "text": [
      "Tata Corolla engine is started\n"
     ]
    }
   ],
   "source": [
    "my_car.start_engine()"
   ]
  },
  {
   "cell_type": "markdown",
   "id": "dcc4a36d",
   "metadata": {},
   "source": [
    "### 4. Drive car at 60km/h."
   ]
  },
  {
   "cell_type": "code",
   "execution_count": 9,
   "id": "8b6210dc",
   "metadata": {},
   "outputs": [
    {
     "name": "stdout",
     "output_type": "stream",
     "text": [
      "Driving speed at 60km/h\n"
     ]
    }
   ],
   "source": [
    "my_car.drive(60)"
   ]
  },
  {
   "cell_type": "markdown",
   "id": "e088d99c",
   "metadata": {},
   "source": [
    "### 5. Stop the car and drive again."
   ]
  },
  {
   "cell_type": "code",
   "execution_count": 10,
   "id": "26dc2df7",
   "metadata": {},
   "outputs": [
    {
     "name": "stdout",
     "output_type": "stream",
     "text": [
      "Tata Corolla engine is stopped\n",
      "Start the engine first\n"
     ]
    }
   ],
   "source": [
    "my_car.stop_engine()\n",
    "my_car.drive(30)"
   ]
  },
  {
   "cell_type": "markdown",
   "id": "58d8feeb",
   "metadata": {},
   "source": [
    "### 6. Create a subclass ElectricCar and override the start method."
   ]
  },
  {
   "cell_type": "code",
   "execution_count": 29,
   "id": "2f21fdac",
   "metadata": {},
   "outputs": [
    {
     "name": "stdout",
     "output_type": "stream",
     "text": [
      "Tesla Model S battery system activated\n"
     ]
    }
   ],
   "source": [
    "#polymorphism - method overridding\n",
    "class ElectricCar(Car):\n",
    "    def start_engine(self):\n",
    "        print(f\"{self.get_brand()} {self.get_model()} battery system activated\")\n",
    "\n",
    "tesla=ElectricCar(\"Tesla\",\"Model S\", 2023)\n",
    "tesla.start_engine()"
   ]
  },
  {
   "cell_type": "markdown",
   "id": "820276bc",
   "metadata": {},
   "source": [
    "### 7. Check if the car is running."
   ]
  },
  {
   "cell_type": "code",
   "execution_count": 15,
   "id": "58d99ccd",
   "metadata": {},
   "outputs": [
    {
     "data": {
      "text/plain": [
       "False"
      ]
     },
     "execution_count": 15,
     "metadata": {},
     "output_type": "execute_result"
    }
   ],
   "source": [
    "my_car.get_is_running()"
   ]
  },
  {
   "cell_type": "markdown",
   "id": "58855673",
   "metadata": {},
   "source": [
    "### 8. Implement abstraction using an abstract class vehicle."
   ]
  },
  {
   "cell_type": "code",
   "execution_count": 17,
   "id": "94001b2d",
   "metadata": {},
   "outputs": [],
   "source": [
    "# from abc import ABC, abstractmethod\n",
    "\n",
    "# abstraction\n",
    "# class Vehicle(ABC):\n",
    "#     @abstractmethod\n",
    "#     def start_engine(self):\n",
    "#         pass"
   ]
  },
  {
   "cell_type": "markdown",
   "id": "d4345acc",
   "metadata": {},
   "source": [
    "### 9. Demonstrate method overloading with default parameter."
   ]
  },
  {
   "cell_type": "code",
   "execution_count": 18,
   "id": "a0a5788c",
   "metadata": {},
   "outputs": [
    {
     "name": "stdout",
     "output_type": "stream",
     "text": [
      "Tata Corolla engine is started\n",
      "Driving speed at 10km/h\n"
     ]
    }
   ],
   "source": [
    "my_car.start_engine()\n",
    "my_car.drive()"
   ]
  },
  {
   "cell_type": "markdown",
   "id": "e08c2554",
   "metadata": {},
   "source": [
    "### 10. Show encapsulation by trying to access private variable directly."
   ]
  },
  {
   "cell_type": "code",
   "execution_count": 19,
   "id": "a22ce99a",
   "metadata": {},
   "outputs": [
    {
     "ename": "AttributeError",
     "evalue": "'Car' object has no attribute '__model'",
     "output_type": "error",
     "traceback": [
      "\u001b[1;31m---------------------------------------------------------------------------\u001b[0m",
      "\u001b[1;31mAttributeError\u001b[0m                            Traceback (most recent call last)",
      "Input \u001b[1;32mIn [19]\u001b[0m, in \u001b[0;36m<cell line: 1>\u001b[1;34m()\u001b[0m\n\u001b[1;32m----> 1\u001b[0m \u001b[38;5;28mprint\u001b[39m(\u001b[43mmy_car\u001b[49m\u001b[38;5;241;43m.\u001b[39;49m\u001b[43m__model\u001b[49m)\n",
      "\u001b[1;31mAttributeError\u001b[0m: 'Car' object has no attribute '__model'"
     ]
    }
   ],
   "source": [
    "print(my_car.__model)"
   ]
  },
  {
   "cell_type": "code",
   "execution_count": 20,
   "id": "34813bc1",
   "metadata": {},
   "outputs": [
    {
     "name": "stdout",
     "output_type": "stream",
     "text": [
      "Corolla\n"
     ]
    }
   ],
   "source": [
    "print(my_car.get_model())"
   ]
  },
  {
   "cell_type": "markdown",
   "id": "44e723ea",
   "metadata": {},
   "source": [
    "### 11. Create a list of cars object and display their models"
   ]
  },
  {
   "cell_type": "code",
   "execution_count": 30,
   "id": "f150b31e",
   "metadata": {},
   "outputs": [
    {
     "name": "stdout",
     "output_type": "stream",
     "text": [
      "Civic\n",
      "Mustang\n"
     ]
    }
   ],
   "source": [
    "cars = [Car(\"Honda\", \"Civic\", 2021), Car(\"Ford\", \"Mustang\", 2022)]\n",
    "\n",
    "for car in cars:\n",
    "    print(car.get_model())"
   ]
  },
  {
   "cell_type": "markdown",
   "id": "f9b5a8da",
   "metadata": {},
   "source": [
    "### 12. Count how many cars object created."
   ]
  },
  {
   "cell_type": "code",
   "execution_count": null,
   "id": "2dae1521",
   "metadata": {},
   "outputs": [],
   "source": [
    "print(Car.total_car)"
   ]
  },
  {
   "cell_type": "markdown",
   "id": "d2b14159",
   "metadata": {},
   "source": [
    "### 13. Delete object"
   ]
  },
  {
   "cell_type": "code",
   "execution_count": null,
   "id": "5abe9211",
   "metadata": {},
   "outputs": [],
   "source": [
    "del my_car"
   ]
  },
  {
   "cell_type": "markdown",
   "id": "b8a25505",
   "metadata": {},
   "source": [
    "### 14. Check if tesla is an instance of car"
   ]
  },
  {
   "cell_type": "code",
   "execution_count": 43,
   "id": "919cc740",
   "metadata": {},
   "outputs": [
    {
     "name": "stdout",
     "output_type": "stream",
     "text": [
      "True\n",
      "True\n"
     ]
    }
   ],
   "source": [
    "print(isinstance(tesla,Car))\n",
    "print(isinstance(tesla,ElectricCar))"
   ]
  },
  {
   "cell_type": "code",
   "execution_count": null,
   "id": "c4eaf743",
   "metadata": {},
   "outputs": [],
   "source": []
  }
 ],
 "metadata": {
  "kernelspec": {
   "display_name": "base",
   "language": "python",
   "name": "python3"
  },
  "language_info": {
   "codemirror_mode": {
    "name": "ipython",
    "version": 3
   },
   "file_extension": ".py",
   "mimetype": "text/x-python",
   "name": "python",
   "nbconvert_exporter": "python",
   "pygments_lexer": "ipython3",
   "version": "3.9.12"
  }
 },
 "nbformat": 4,
 "nbformat_minor": 5
}
